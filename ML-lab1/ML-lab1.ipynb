{
  "nbformat": 4,
  "nbformat_minor": 0,
  "metadata": {
    "colab": {
      "name": "Копия блокнота \"lab1.ipynb\"",
      "provenance": [],
      "collapsed_sections": [
        "MFKSC2UUA7Ne",
        "Mth2u7nzAiqw",
        "JrEY8hzdfmM2",
        "mrm41pzufmNy",
        "2kJObRBHfmOd",
        "ylh_09YIfmOg",
        "QeBH-jT4fmOy"
      ],
      "toc_visible": true
    },
    "kernelspec": {
      "display_name": "Python 3",
      "language": "python",
      "name": "python3"
    },
    "language_info": {
      "codemirror_mode": {
        "name": "ipython",
        "version": 3
      },
      "file_extension": ".py",
      "mimetype": "text/x-python",
      "name": "python",
      "nbconvert_exporter": "python",
      "pygments_lexer": "ipython3",
      "version": "3.7.4"
    }
  },
  "cells": [
    {
      "cell_type": "markdown",
      "metadata": {
        "id": "BsNwjQDRfmLY"
      },
      "source": [
        "# Задание 1"
      ]
    },
    {
      "cell_type": "markdown",
      "metadata": {
        "id": "wu6r1-s7fmLe"
      },
      "source": [
        "---"
      ]
    },
    {
      "cell_type": "markdown",
      "metadata": {
        "id": "zxRIdPO9gYyX"
      },
      "source": [
        "Напишите программу, которая будет решать систему линейных уравнений вида:\n",
        "\n",
        "\\begin{matrix} a_{11}x+a_{12}y=b_{1}&(1) \\\\ a_{21}x+a_{22}y=b_{2} &(2) \\end{matrix}\n",
        "​\n",
        "На вход программа должна принимать 2 строки.\n",
        "\n",
        "Каждая строка содержит 3 действительных числа через пробел: коэффициенты a и b.\n",
        "\n",
        "На выходе программа должна выдавать значения x и y в одну строку через пробел.\n",
        "\n",
        "\n",
        "Примечание 1. Для разделения строки на отдельные элементы используйте функцию split()\n",
        "\n",
        "Примечание 2. В качестве разделителя между целой и дробной частью используйте точку, например 0.2"
      ]
    },
    {
      "cell_type": "code",
      "metadata": {
        "id": "6sxlcLbVlrjl",
        "colab": {
          "base_uri": "https://localhost:8080/"
        },
        "outputId": "3d2a7b0c-323f-48ae-8fe1-f2b7c972d244"
      },
      "source": [
        "# Cramer\n",
        "def solve(row_1, row_2):\n",
        "  print(str(row_1) + \" \" + str(row_2))\n",
        "  main_det = (row_1[0] * row_2[1]) - (row_1[1] * row_2[0])\n",
        "  print(str(main_det))\n",
        "\n",
        "  if main_det == 0:\n",
        "    print(\"no solutions\")\n",
        "  else:\n",
        "    x_det = (row_1[2] * row_2[1]) - (row_1[1] * row_2[2])\n",
        "    y_det = (row_1[0] * row_2[2]) - (row_1[2] * row_2[0])\n",
        "    print(str(x_det) + \" \" + str(y_det))\n",
        "\n",
        "    x = x_det / main_det\n",
        "    y = y_det / main_det\n",
        "\n",
        "    print(\"x = \" + str(x) + \", y = \" + str(y))\n",
        "\n",
        "list_1 = list(map(int, input().split()))\n",
        "list_2 = list(map(int, input().split()))\n",
        "#solve([12, 1, -1], [32, -5, 6])\n",
        "solve(list_1, list_2)"
      ],
      "execution_count": null,
      "outputs": [
        {
          "output_type": "stream",
          "name": "stdout",
          "text": [
            "12 1 -1\n",
            "32 -5 6\n",
            "[12, 1, -1] [32, -5, 6]\n",
            "-92\n",
            "-1 104\n",
            "x = 0.010869565217391304, y = -1.1304347826086956\n"
          ]
        }
      ]
    },
    {
      "cell_type": "markdown",
      "metadata": {
        "id": "wLoVDMQnfmOv"
      },
      "source": [
        "# Задание 2"
      ]
    },
    {
      "cell_type": "markdown",
      "metadata": {
        "id": "6bmt_YF3fmOw"
      },
      "source": [
        "Напишите функцию `decorate_matrix`, которая получает на вход одно целое число больше единицы. Функция должна возвращать матрицу n на n, у которой на границах стоят единицы, а на всех остальных позициях(если остались позиции не на границах) стоят нули.\n",
        "\n",
        "Нужно сделать без использования  циклов.\n",
        "\n",
        "```\n",
        "# ожидаемый резальтат для аргумента 5\n",
        "array([[1., 1., 1., 1., 1.],\n",
        "[1., 0., 0., 0., 1.],\n",
        "[1., 0., 0., 0., 1.],\n",
        "[1., 0., 0., 0., 1.],\n",
        "[1., 1., 1., 1., 1.]])\n",
        "```\n",
        "\n"
      ]
    },
    {
      "cell_type": "code",
      "metadata": {
        "id": "svso1DXNca-a",
        "colab": {
          "base_uri": "https://localhost:8080/"
        },
        "outputId": "e40cbde9-f72a-4c08-8f4e-fa71cc6a87b0"
      },
      "source": [
        "def decorate_matrix():\n",
        "  n = int(input())\n",
        "  top, footer = [1]*n, [1]*n\n",
        "  mid = [1] + ([0] * (n - 2)) + [1]\n",
        "  return [top, *[mid] * (n - 2), footer]\n",
        "\n",
        "decorate_matrix()"
      ],
      "execution_count": null,
      "outputs": [
        {
          "name": "stdout",
          "output_type": "stream",
          "text": [
            "8\n"
          ]
        },
        {
          "output_type": "execute_result",
          "data": {
            "text/plain": [
              "[[1, 1, 1, 1, 1, 1, 1, 1],\n",
              " [1, 0, 0, 0, 0, 0, 0, 1],\n",
              " [1, 0, 0, 0, 0, 0, 0, 1],\n",
              " [1, 0, 0, 0, 0, 0, 0, 1],\n",
              " [1, 0, 0, 0, 0, 0, 0, 1],\n",
              " [1, 0, 0, 0, 0, 0, 0, 1],\n",
              " [1, 0, 0, 0, 0, 0, 0, 1],\n",
              " [1, 1, 1, 1, 1, 1, 1, 1]]"
            ]
          },
          "metadata": {},
          "execution_count": 9
        }
      ]
    },
    {
      "cell_type": "markdown",
      "metadata": {
        "id": "75sxny1zSCbl"
      },
      "source": [
        "# Задание 3"
      ]
    },
    {
      "cell_type": "markdown",
      "metadata": {
        "id": "2Xq1tBBAS5UJ"
      },
      "source": [
        "1) реализуйте 2 функции:\n",
        "\n",
        "$f(x) = (x+a)^2 - b$\n",
        "\n",
        "$g(x) = |f(x)|$\n",
        "\n",
        "2) Найдите аргументы, при которых достигается минимум функций $f(x)$ и $g(x)$\n",
        "\n",
        "Пример.\n",
        "Входные значение: $a=3$ и $b=4$\n",
        "\n",
        "Выходные значения:\n",
        "\n",
        "`-3.0 -1.0`"
      ]
    },
    {
      "cell_type": "code",
      "metadata": {
        "id": "1uIaD8VCbeFJ",
        "colab": {
          "base_uri": "https://localhost:8080/"
        },
        "outputId": "a1ea76d6-74c6-4074-da69-e78c8166f28c"
      },
      "source": [
        "a = int(input())\n",
        "b = int(input())\n",
        "#a = 3\n",
        "#b = 4\n",
        "def f(x):\n",
        "  return (x + a)**2 - b\n",
        "\n",
        "def g(x):\n",
        "  return abs(f(x))\n",
        "\n",
        "def dichotomy(a, b, eps, f):\n",
        "    c = (a + b) / 2\n",
        "    sigma = eps / 4\n",
        "\n",
        "    while b - a > eps:\n",
        "        x1 = c - sigma\n",
        "        x2 = c + sigma\n",
        "        if f(x1) > f(x2):\n",
        "            a = x2\n",
        "        else:\n",
        "            b = x1\n",
        "\n",
        "        c = (a + b) / 2\n",
        "    print(\"Min: \" + \"f(\" + str(c) + \") = \" + str(f(c)))\n",
        "\n",
        "dichotomy(-10, 10, 0.0001, f)\n",
        "dichotomy(-10, 10, 0.0001, g)"
      ],
      "execution_count": null,
      "outputs": [
        {
          "output_type": "stream",
          "name": "stdout",
          "text": [
            "3\n",
            "4\n",
            "Min: f(-2.9999998705863957) = -3.999999999999983\n",
            "Min: f(-1.000025388240815) = 0.00010155231869735104\n"
          ]
        }
      ]
    },
    {
      "cell_type": "markdown",
      "metadata": {
        "id": "efml9GzISC9Q"
      },
      "source": [
        "# Задание 4"
      ]
    },
    {
      "cell_type": "markdown",
      "metadata": {
        "id": "SDZvKcsTVbAW"
      },
      "source": [
        "Постройте графики для функций из предыдущего задания и отметьте другим цветом на графиках точки найденных минимумов."
      ]
    },
    {
      "cell_type": "code",
      "metadata": {
        "id": "uW-2wKTjccLJ",
        "colab": {
          "base_uri": "https://localhost:8080/",
          "height": 164
        },
        "outputId": "1bb793b7-f620-4cbc-a594-27b5c4234a5a"
      },
      "source": [
        "import matplotlib.pyplot as plt\n",
        "\n",
        "def plot_function():\n",
        "    plt.figure(figsize=(8, 4))\n",
        "    x = range(-10, 8)\n",
        "    y = list(map(f, x))\n",
        "\n",
        "    plt.subplot(2, 2, 1)\n",
        "    plt.plot(x, y, '.')\n",
        "    plt.ylabel(\"Y\")\n",
        "    plt.xlabel(\"X\")\n",
        "    plt.scatter([-3.0036804199218743], [f(-3.0036804199218743)])\n",
        "\n",
        "    x_2 = range(-10, 8)\n",
        "    y_2 = list(map(g, x_2))\n",
        "    plt.subplot(2, 2, 2)\n",
        "    plt.plot(x_2, y_2)\n",
        "    plt.scatter([-1.001226806640625], [f(-1.001226806640625)])\n",
        "\n",
        "plot_function()"
      ],
      "execution_count": null,
      "outputs": [
        {
          "output_type": "display_data",
          "data": {
            "image/png": "[encoded data removed]",
            "text/plain": [
              "<Figure size 576x288 with 2 Axes>"
            ]
          },
          "metadata": {
            "needs_background": "light"
          }
        }
      ]
    },
    {
      "cell_type": "markdown",
      "metadata": {
        "id": "mrby3EfiSDKJ"
      },
      "source": [
        "# Задание 5"
      ]
    },
    {
      "cell_type": "markdown",
      "metadata": {
        "id": "J6AZ8785VkQd"
      },
      "source": [
        "1000 человек бросают монетку. Каждый бросил 10 раз подряд.\n",
        "\n",
        " 1. Какова вероятность того, что хотя бы у одного человека монетка выпала 10 раз подряд той же самой стороной (орлом или решкой)?\n",
        " 2. Какова вероятность того, что хотя бы у одного человека монетка выпала 8 раз подряд той же самой стороной (орлом или решкой)?\n",
        " 3. Какова вероятность того, что ровно у троих человек из 1000 монетка выпала 10 раз подряд той же самой стороной (орлом или решкой)?"
      ]
    },
    {
      "cell_type": "code",
      "metadata": {
        "id": "XITzAOnscc14",
        "colab": {
          "base_uri": "https://localhost:8080/"
        },
        "outputId": "7bb8c3b6-a509-4417-a009-3e78a9a5ceaf"
      },
      "source": [
        "answer_1 = (1 - ((1 - (1 / 2 ** 9)) ** 999))\n",
        "print(answer_1)\n",
        "\n",
        "answer_2 = (1 - ((1 - (1 / 2 ** 7)) ** 999))\n",
        "print(answer_2)\n",
        "\n",
        "import math\n",
        "answer_3 = (math.factorial(1000) / (math.factorial(997) * math.factorial(3))) * ((1/2 ** 9)) ** 3 * (1 - (1/2 ** 9)) ** 997\n",
        "print(answer_3)"
      ],
      "execution_count": null,
      "outputs": [
        {
          "output_type": "stream",
          "name": "stdout",
          "text": [
            "0.8581634301818157\n",
            "0.9996044899196872\n",
            "0.1762873858121736\n"
          ]
        }
      ]
    }
  ]
}