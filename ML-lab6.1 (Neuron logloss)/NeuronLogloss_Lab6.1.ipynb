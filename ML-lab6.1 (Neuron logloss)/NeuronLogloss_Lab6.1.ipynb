{
  "nbformat": 4,
  "nbformat_minor": 0,
  "metadata": {
    "colab": {
      "name": "Копия блокнота \"test 6.1 neuron logloss.ipynb\"",
      "provenance": []
    },
    "kernelspec": {
      "display_name": "Python 3",
      "language": "python",
      "name": "python3"
    }
  },
  "cells": [
    {
      "cell_type": "markdown",
      "metadata": {
        "id": "tWTTy4lrZca5"
      },
      "source": [
        "# Обучение нейрона с помощью функции потерь LogLoss"
      ]
    },
    {
      "cell_type": "markdown",
      "metadata": {
        "id": "G_zlIW5BZcbB"
      },
      "source": [
        "<h3 style=\"text-align: center;\"><b>Нейрон с сигмоидой</b></h3>"
      ]
    },
    {
      "cell_type": "markdown",
      "metadata": {
        "id": "QWwW32pCZcbC"
      },
      "source": [
        "Снова рассмотрим нейрон с сигмоидой, то есть $$f(x) = \\sigma(x)=\\frac{1}{1+e^{-x}}$$"
      ]
    },
    {
      "cell_type": "markdown",
      "metadata": {
        "collapsed": true,
        "id": "mj5QizQIZcbC"
      },
      "source": [
        "Ранее мы установили, что **обучение нейрона с сигмоидой с квадратичной функцией потерь**:  \n",
        "\n",
        "$$MSE(w, x) = \\frac{1}{2n}\\sum_{i=1}^{n} (\\hat{y_i} - y_i)^2 = \\frac{1}{2n}\\sum_{i=1}^{n} (\\sigma(w \\cdot x_i) - y_i)^2$$    \n",
        "\n",
        "где $w \\cdot x_i$ - скалярное произведение, а $\\sigma(w \\cdot x_i) =\\frac{1}{1+e^{-w \\cdot x_i}} $ - сигмоида -- **неэффективно**, то есть мы увидели, что даже за большое количество итераций нейрон предсказывает плохо."
      ]
    },
    {
      "cell_type": "markdown",
      "metadata": {
        "id": "MTgNbravZcbE"
      },
      "source": [
        "Давайте ещё раз взглянем на формулу для градиентного спуска от функции потерь $MSE$ по весам нейрона:"
      ]
    },
    {
      "cell_type": "markdown",
      "metadata": {
        "collapsed": true,
        "id": "RHXjByowZcbE"
      },
      "source": [
        "$$ \\frac{\\partial MSE}{\\partial w} = \\frac{1}{n} X^T (\\sigma(w \\cdot X) - y)\\sigma(w \\cdot X)(1 - \\sigma(w \\cdot X))$$"
      ]
    },
    {
      "cell_type": "markdown",
      "metadata": {
        "id": "ebNqrTV3ZcbF"
      },
      "source": [
        "А теперь смотрим на график сигмоиды:"
      ]
    },
    {
      "cell_type": "markdown",
      "metadata": {
        "id": "366q3EzJZcbH"
      },
      "source": [
        "<img src=\"https://cdn-images-1.medium.com/max/1200/1*IDAnCFoeXqWL7F4u9MJMtA.png\" width=500px height=350px>"
      ]
    },
    {
      "cell_type": "markdown",
      "metadata": {
        "id": "CSEF3EWVZcbJ"
      },
      "source": [
        "**Её значения: числа от 0 до 1.**"
      ]
    },
    {
      "cell_type": "markdown",
      "metadata": {
        "id": "8oOJPcKhZcbJ"
      },
      "source": [
        "Если получше проанализировать формулу, то теперь можно заметить, что, поскольку сигмоида принимает значения между 0 и 1 (а значит (1-$\\sigma$) тоже принимает значения от 0 до 1), то мы умножаем $X^T$ на столбец $(\\sigma(w \\cdot X) - y)$ из чисел от -1 до 1, а потом ещё на столбцы $\\sigma(w \\cdot X)$ и $(1 - \\sigma(w \\cdot X))$ из чисел от 0 до 1. Таким образом в лучшем случае $\\frac{\\partial{Loss}}{\\partial{w}}$ будет столбцом из чисел, порядок которых максимум 0.01 (в среднем, понятно, что если сигмоида выдаёт все 0, то будет 0, если все 1, то тоже 0). После этого мы умножаем на шаг градиентного спуска, который обычно порядка 0.001 или 0.1 максимум. То есть мы вычитаем из весов числа порядка ~0.0001. Медленновато спускаемся, не правда ли? Это называют **проблемой затухающих градиентов**."
      ]
    },
    {
      "cell_type": "markdown",
      "metadata": {
        "id": "hHmUqm5xZcbK"
      },
      "source": [
        "Чтобы избежать эту проблему в задачах классификации, в которых моделью является нейрон с сигмоидной функцией активации, предсказывающий \"вероятности\" принадлженостей к классамиспользуют **LogLoss**:  "
      ]
    },
    {
      "cell_type": "markdown",
      "metadata": {
        "id": "Dbw69trJZcbL"
      },
      "source": [
        "$$J(\\hat{y}, y) = -\\frac{1}{n} \\sum_{i=1}^n y_i \\log(\\hat{y_i}) + (1 - y_i) \\log(1 - \\hat{y_i}) = -\\frac{1}{n} \\sum_{i=1}^n y_i \\log(\\sigma(w \\cdot x_i)) + (1 - y_i) \\log(1 - \\sigma(w \\cdot x_i))$$"
      ]
    },
    {
      "cell_type": "markdown",
      "metadata": {
        "id": "jXcBIx73ZcbM"
      },
      "source": [
        "где, как и прежде, $y$ - столбец $(n, 1)$ из истинных значений классов, а $\\hat{y}$ - столбец $(n, 1)$ из предсказаний нейрона."
      ]
    },
    {
      "cell_type": "code",
      "metadata": {
        "id": "5DBEOhJmZcbN"
      },
      "source": [
        "from matplotlib import pyplot as plt\n",
        "from matplotlib.colors import ListedColormap\n",
        "import numpy as np\n",
        "import pandas as pd"
      ],
      "execution_count": null,
      "outputs": []
    },
    {
      "cell_type": "code",
      "metadata": {
        "id": "_x5CX0RyZcbQ"
      },
      "source": [
        "def loss(y_pred, y):\n",
        "    return -np.mean(y * np.log(y_pred) + (1 - y) * np.log(1 - y_pred))"
      ],
      "execution_count": null,
      "outputs": []
    },
    {
      "cell_type": "markdown",
      "metadata": {
        "id": "raPTihU6ZcbT"
      },
      "source": [
        "Отметим, что сейчас речь идёт именно о **бинарной классификации (на два класса)**, в многоклассовой классификации используется функция потерь под названием *кросс-энтропия*, которая является обобщением LogLoss'а на случай нескольких классов."
      ]
    },
    {
      "cell_type": "markdown",
      "metadata": {
        "id": "B0Ky5xUfvOzh"
      },
      "source": [
        "Почему же теперь всё будет лучше? Раньше была проблема умножения маленьких чисел в градиенте. Давайте посмотрим, что теперь:"
      ]
    },
    {
      "cell_type": "markdown",
      "metadata": {
        "id": "qxs0zXfPvOzh"
      },
      "source": [
        "* Для веса $w_j$:"
      ]
    },
    {
      "cell_type": "markdown",
      "metadata": {
        "id": "hH6AujkCvOzj"
      },
      "source": [
        "$$ \\frac{\\partial Loss}{\\partial w_j} =\n",
        "-\\frac{1}{n} \\sum_{i=1}^n \\left(\\frac{y_i}{\\sigma(w \\cdot x_i)} - \\frac{1 - y_i}{1 - \\sigma(w \\cdot x_i)}\\right)(\\sigma(w \\cdot x_i))_{w_j}' = -\\frac{1}{n} \\sum_{i=1}^n \\left(\\frac{y_i}{\\sigma(w \\cdot x_i)} - \\frac{1 - y_i}{1 - \\sigma(w \\cdot x_i)}\\right)\\sigma(w \\cdot x_i)(1 - \\sigma(w \\cdot x_i))x_{ij} = $$\n",
        "$$-\\frac{1}{n} \\sum_{i=1}^n \\left(y_i - \\sigma(w \\cdot x_i)\\right)x_{ij}$$"
      ]
    },
    {
      "cell_type": "markdown",
      "metadata": {
        "id": "dYOygL-zvOzk"
      },
      "source": [
        "* Градиент $Loss$'а по вектору весов -- это вектор, $j$-ая компонента которого равна $\\frac{\\partial Loss}{\\partial w_j}$ (помним, что весов всего $m$):"
      ]
    },
    {
      "cell_type": "markdown",
      "metadata": {
        "id": "ItJoyReVvOzl"
      },
      "source": [
        "$$\\begin{align}\n",
        "    \\frac{\\partial Loss}{\\partial w} &= \\begin{bmatrix}\n",
        "           -\\frac{1}{n} \\sum_{i=1}^n \\left(y_i - \\sigma(w \\cdot x_i)\\right)x_{i1} \\\\\n",
        "           -\\frac{1}{n} \\sum_{i=1}^n \\left(y_i - \\sigma(w \\cdot x_i)\\right)x_{i2} \\\\\n",
        "           \\vdots \\\\\n",
        "           -\\frac{1}{n} \\sum_{i=1}^n \\left(y_i - \\sigma(w \\cdot x_i)\\right)x_{im}\n",
        "         \\end{bmatrix}\n",
        "\\end{align}=\\frac{1}{n} X^T \\left(\\hat{y} - y\\right)$$"
      ]
    },
    {
      "cell_type": "markdown",
      "metadata": {
        "id": "r2xKo6NzvOzm"
      },
      "source": [
        "По аналогии с $w_j$ выведите формулу для свободного члена (bias'а) $b$ (*hint*: можно считать, что при нём есть признак $x_{i0}=1$ на всех $i$)."
      ]
    },
    {
      "cell_type": "markdown",
      "metadata": {
        "id": "7HQALb8XZcbU"
      },
      "source": [
        "Получили новое правило для обновления $w$ и $b$."
      ]
    },
    {
      "cell_type": "code",
      "metadata": {
        "id": "xL2gqg27ZcbW"
      },
      "source": [
        "def sigmoid(x):\n",
        "    \"\"\"Сигмоидальная функция\"\"\"\n",
        "    return 1 / (1 + np.exp(-x))"
      ],
      "execution_count": null,
      "outputs": []
    },
    {
      "cell_type": "markdown",
      "metadata": {
        "id": "ukZ-iJNRZcbY"
      },
      "source": [
        "Реализуйте нейрон с функцией потерь LogLoss:"
      ]
    },
    {
      "cell_type": "code",
      "metadata": {
        "id": "TdnkoJDfZcba"
      },
      "source": [
        "class Neuron:\n",
        "\n",
        "    def __init__(self, w=None, b=0):\n",
        "        \"\"\"\n",
        "        :param: w -- вектор весов\n",
        "        :param: b -- смещение\n",
        "        \"\"\"\n",
        "        # пока что мы не знаем размер матрицы X, а значит не знаем, сколько будет весов\n",
        "        self.w = w\n",
        "        self.b = b\n",
        "\n",
        "\n",
        "    def activate(self, x):\n",
        "        return sigmoid(x)\n",
        "\n",
        "\n",
        "    def forward_pass(self, X):\n",
        "        \"\"\"\n",
        "        Эта функция рассчитывает ответ нейрона при предъявлении набора объектов\n",
        "        :param: X -- матрица объектов размера (n, m), каждая строка - отдельный объект\n",
        "        :return: вектор размера (n, 1) из нулей и единиц с ответами перцептрона\n",
        "        \"\"\"\n",
        "        # реализуйте forward_pass\n",
        "        y_pred = self.activate(X @ self.w.reshape(X.shape[1], 1) + self.b)\n",
        "        return y_pred.reshape(-1, 1)\n",
        "\n",
        "    def backward_pass(self, X, y, y_pred, learning_rate=0.1):\n",
        "        \"\"\"\n",
        "        Обновляет значения весов нейрона в соответствие с этим объектом\n",
        "        :param: X -- матрица объектов размера (n, m)\n",
        "                y -- вектор правильных ответов размера (n, 1)\n",
        "                learning_rate - \"скорость обучения\" (символ alpha в формулах выше)\n",
        "        В этом методе ничего возвращать не нужно, только правильно поменять веса\n",
        "        с помощью градиентного спуска.\n",
        "        \"\"\"\n",
        "        # тут нужно обновить веса по формулам, написанным выше\n",
        "        n = len(y)\n",
        "        y = np.array(y).reshape(-1, 1)\n",
        "        sigma = self.activate(X @ self.w + self.b)\n",
        "\n",
        "        self.w = self.w - learning_rate * (X.T @ (sigma - y)) / n\n",
        "        self.b = self.b - learning_rate * np.mean(sigma - y)\n",
        "\n",
        "    def fit(self, X, y, num_epochs=5000):\n",
        "        \"\"\"\n",
        "        Спускаемся в минимум\n",
        "        :param: X -- матрица объектов размера (n, m)\n",
        "                y -- вектор правильных ответов размера (n, 1)\n",
        "                num_epochs -- количество итераций обучения\n",
        "        :return: J_values -- вектор значений функции потерь\n",
        "        \"\"\"\n",
        "        # self.w = np.zeros((X.shape[1], 1))  # столбец (m, 1)\n",
        "        # self.b = 0  # смещение\n",
        "        loss_values = []  # значения функции потерь на различных итерациях обновления весов\n",
        "\n",
        "        if self.w is None:\n",
        "          self.w = np.zeros((X.shape[1], 1))  # столбец (m, 1)\n",
        "          self.b = 0  # смещение (число)\n",
        "\n",
        "        for i in range(num_epochs):\n",
        "            # предсказания с текущими весами\n",
        "            y_pred = self.forward_pass(X)\n",
        "            # считаем функцию потерь с текущими весами\n",
        "            loss_values.append(loss(y_pred, y))\n",
        "            # обновляем веса по формуле градиентного спуска\n",
        "            self.backward_pass(X, y, y_pred)\n",
        "        return loss_values"
      ],
      "execution_count": null,
      "outputs": []
    },
    {
      "cell_type": "markdown",
      "metadata": {
        "id": "-RQRPI50Zcbb"
      },
      "source": [
        "<h3 style=\"text-align: center;\"><b>Тестирование</b></h3>"
      ]
    },
    {
      "cell_type": "markdown",
      "metadata": {
        "id": "FBwpsQc0Zcbc"
      },
      "source": [
        "Протестируем нейрон, обученный с новой функцией потерь, на тех же данных, что и в предыдущем ноутбуке:"
      ]
    },
    {
      "cell_type": "markdown",
      "metadata": {
        "id": "JVCPAAuXZcbd"
      },
      "source": [
        "**Проверка forward_pass()**"
      ]
    },
    {
      "cell_type": "code",
      "metadata": {
        "id": "hbuAzv_YZcbe",
        "colab": {
          "base_uri": "https://localhost:8080/"
        },
        "outputId": "c3228f95-5c43-42d6-ea84-d929450011bc"
      },
      "source": [
        "w = np.array([1., 2.]).reshape(2, 1)\n",
        "b = 2.\n",
        "X = np.array([[1., 3.],\n",
        "              [2., 4.],\n",
        "              [-1., -3.2]])\n",
        "\n",
        "neuron = Neuron(w, b)\n",
        "y_pred = neuron.forward_pass(X)\n",
        "print (\"y_pred = \" + str(y_pred))"
      ],
      "execution_count": null,
      "outputs": [
        {
          "output_type": "stream",
          "name": "stdout",
          "text": [
            "y_pred = [[0.99987661]\n",
            " [0.99999386]\n",
            " [0.00449627]]\n"
          ]
        }
      ]
    },
    {
      "cell_type": "markdown",
      "metadata": {
        "id": "eL6viEHNZcbi"
      },
      "source": [
        "**Проверка backward_pass()**"
      ]
    },
    {
      "cell_type": "code",
      "metadata": {
        "id": "_4F8zActZcbk"
      },
      "source": [
        "y = np.array([1, 0, 1]).reshape(3, 1)"
      ],
      "execution_count": null,
      "outputs": []
    },
    {
      "cell_type": "code",
      "metadata": {
        "id": "ILDcoLqwZcbm",
        "colab": {
          "base_uri": "https://localhost:8080/"
        },
        "outputId": "1f14b951-5393-48c9-9f54-4f18cc2b33ef"
      },
      "source": [
        "neuron.backward_pass(X, y, y_pred)\n",
        "\n",
        "print (\"w = \" + str(neuron.w))\n",
        "print (\"b = \" + str(neuron.b))"
      ],
      "execution_count": null,
      "outputs": [
        {
          "output_type": "stream",
          "name": "stdout",
          "text": [
            "w = [[0.9001544 ]\n",
            " [1.76049276]]\n",
            "b = 1.9998544421863216\n"
          ]
        }
      ]
    },
    {
      "cell_type": "markdown",
      "metadata": {
        "id": "_1ZRdKcfZcbq"
      },
      "source": [
        "Проверьте на наборах данных \"яблоки и груши\" и \"голос\"."
      ]
    },
    {
      "cell_type": "code",
      "metadata": {
        "colab": {
          "base_uri": "https://localhost:8080/"
        },
        "id": "d-C4alcAX_Ry",
        "outputId": "0fdcd515-8a99-42b7-cd43-e883c5269e6b"
      },
      "source": [
        "from google.colab import drive\n",
        "drive.mount('/content/drive')\n",
        "data = pd.read_csv(\"/content/drive/MyDrive/Data/apples_pears.csv\", sep = ',')"
      ],
      "execution_count": null,
      "outputs": [
        {
          "output_type": "stream",
          "name": "stdout",
          "text": [
            "Drive already mounted at /content/drive; to attempt to forcibly remount, call drive.mount(\"/content/drive\", force_remount=True).\n"
          ]
        }
      ]
    },
    {
      "cell_type": "code",
      "metadata": {
        "colab": {
          "base_uri": "https://localhost:8080/",
          "height": 359
        },
        "id": "x9MvqWpnYjr1",
        "outputId": "53bcddbf-485d-4f1a-d819-549e4aaf637f"
      },
      "source": [
        "data.sample(10)"
      ],
      "execution_count": null,
      "outputs": [
        {
          "output_type": "execute_result",
          "data": {
            "text/html": [
              "<div>\n",
              "<style scoped>\n",
              "    .dataframe tbody tr th:only-of-type {\n",
              "        vertical-align: middle;\n",
              "    }\n",
              "\n",
              "    .dataframe tbody tr th {\n",
              "        vertical-align: top;\n",
              "    }\n",
              "\n",
              "    .dataframe thead th {\n",
              "        text-align: right;\n",
              "    }\n",
              "</style>\n",
              "<table border=\"1\" class=\"dataframe\">\n",
              "  <thead>\n",
              "    <tr style=\"text-align: right;\">\n",
              "      <th></th>\n",
              "      <th>yellowness</th>\n",
              "      <th>symmetry</th>\n",
              "      <th>target</th>\n",
              "    </tr>\n",
              "  </thead>\n",
              "  <tbody>\n",
              "    <tr>\n",
              "      <th>898</th>\n",
              "      <td>0.466781</td>\n",
              "      <td>0.693335</td>\n",
              "      <td>0.0</td>\n",
              "    </tr>\n",
              "    <tr>\n",
              "      <th>364</th>\n",
              "      <td>0.980871</td>\n",
              "      <td>0.039804</td>\n",
              "      <td>1.0</td>\n",
              "    </tr>\n",
              "    <tr>\n",
              "      <th>119</th>\n",
              "      <td>0.887669</td>\n",
              "      <td>0.194487</td>\n",
              "      <td>1.0</td>\n",
              "    </tr>\n",
              "    <tr>\n",
              "      <th>656</th>\n",
              "      <td>0.777392</td>\n",
              "      <td>0.324151</td>\n",
              "      <td>0.0</td>\n",
              "    </tr>\n",
              "    <tr>\n",
              "      <th>740</th>\n",
              "      <td>0.273732</td>\n",
              "      <td>0.399312</td>\n",
              "      <td>0.0</td>\n",
              "    </tr>\n",
              "    <tr>\n",
              "      <th>789</th>\n",
              "      <td>0.803020</td>\n",
              "      <td>0.198540</td>\n",
              "      <td>1.0</td>\n",
              "    </tr>\n",
              "    <tr>\n",
              "      <th>248</th>\n",
              "      <td>0.554408</td>\n",
              "      <td>0.124209</td>\n",
              "      <td>1.0</td>\n",
              "    </tr>\n",
              "    <tr>\n",
              "      <th>195</th>\n",
              "      <td>0.802952</td>\n",
              "      <td>0.987818</td>\n",
              "      <td>0.0</td>\n",
              "    </tr>\n",
              "    <tr>\n",
              "      <th>455</th>\n",
              "      <td>0.730747</td>\n",
              "      <td>0.614144</td>\n",
              "      <td>0.0</td>\n",
              "    </tr>\n",
              "    <tr>\n",
              "      <th>716</th>\n",
              "      <td>0.427667</td>\n",
              "      <td>0.164239</td>\n",
              "      <td>0.0</td>\n",
              "    </tr>\n",
              "  </tbody>\n",
              "</table>\n",
              "</div>"
            ],
            "text/plain": [
              "     yellowness  symmetry  target\n",
              "898    0.466781  0.693335     0.0\n",
              "364    0.980871  0.039804     1.0\n",
              "119    0.887669  0.194487     1.0\n",
              "656    0.777392  0.324151     0.0\n",
              "740    0.273732  0.399312     0.0\n",
              "789    0.803020  0.198540     1.0\n",
              "248    0.554408  0.124209     1.0\n",
              "195    0.802952  0.987818     0.0\n",
              "455    0.730747  0.614144     0.0\n",
              "716    0.427667  0.164239     0.0"
            ]
          },
          "metadata": {},
          "execution_count": 47
        }
      ]
    },
    {
      "cell_type": "code",
      "metadata": {
        "id": "hq5nOJRLY0yF"
      },
      "source": [
        "X = data.iloc[:,:2].values\n",
        "y = data['target'].values.reshape((-1, 1))\n",
        "neuron = Neuron()\n",
        "Loss_values = neuron.fit(X, y, num_epochs=10000)\n",
        "# print(np.array(neuron.forward_pass(X) > 0.5))"
      ],
      "execution_count": null,
      "outputs": []
    },
    {
      "cell_type": "code",
      "source": [
        "plt.figure(figsize=(5, 4))\n",
        "plt.scatter(data.iloc[:, 0], data.iloc[:, 1], c=data['target'], cmap='rainbow')\n",
        "plt.title('Яблоки и груши', fontsize=15)\n",
        "plt.xlabel('уровень симметрии', fontsize=15)\n",
        "plt.ylabel('степень окраса в жёлтый цвет', fontsize=15)\n",
        "plt.show();"
      ],
      "metadata": {
        "colab": {
          "base_uri": "https://localhost:8080/",
          "height": 303
        },
        "id": "rdhbQ6pfEXBB",
        "outputId": "34b20afa-a4e9-4970-824a-fc5f8d9105f4"
      },
      "execution_count": null,
      "outputs": [
        {
          "output_type": "display_data",
          "data": {
            "image/png": "[encoded data removed]",
            "text/plain": [
              "<Figure size 360x288 with 1 Axes>"
            ]
          },
          "metadata": {
            "needs_background": "light"
          }
        }
      ]
    },
    {
      "cell_type": "code",
      "source": [
        "plt.figure(figsize=(5, 4))\n",
        "plt.scatter(data.iloc[:, 0], data.iloc[:, 1], c=np.array(neuron.forward_pass(X) > 0.5).ravel(), cmap='spring')\n",
        "plt.title('Яблоки и груши', fontsize=15)\n",
        "plt.xlabel('уровень симметрии', fontsize=15)\n",
        "plt.ylabel('степень окраса в жёлтый цвет', fontsize=15)\n",
        "plt.show();"
      ],
      "metadata": {
        "colab": {
          "base_uri": "https://localhost:8080/",
          "height": 303
        },
        "id": "eABSva5uEW6K",
        "outputId": "62b954f9-938b-4d55-fd77-7c4dd72f0210"
      },
      "execution_count": null,
      "outputs": [
        {
          "output_type": "display_data",
          "data": {
            "image/png": "[encoded data removed]",
            "text/plain": [
              "<Figure size 360x288 with 1 Axes>"
            ]
          },
          "metadata": {
            "needs_background": "light"
          }
        }
      ]
    },
    {
      "cell_type": "code",
      "source": [
        "from sklearn.model_selection import train_test_split\n",
        "target = data['target']\n",
        "data = data.drop(columns='target')\n",
        "X_train, X_test, y_train, y_test = train_test_split(data, target, test_size=0.33, random_state=42)\n",
        "plt.figure(figsize=(5, 4))\n",
        "plt.plot(Loss_values)\n",
        "plt.title('Функция потерь', fontsize=15)\n",
        "plt.xlabel('итерация', fontsize=15)\n",
        "plt.ylabel('$Loss(\\hat{y}, y)$', fontsize=15)\n",
        "plt.show()"
      ],
      "metadata": {
        "colab": {
          "base_uri": "https://localhost:8080/",
          "height": 302
        },
        "id": "uRx_6i0GFT0e",
        "outputId": "0f4b954b-b9a9-412b-e48d-ec4a5b239480"
      },
      "execution_count": null,
      "outputs": [
        {
          "output_type": "display_data",
          "data": {
            "image/png": "[encoded data removed]",
            "text/plain": [
              "<Figure size 360x288 with 1 Axes>"
            ]
          },
          "metadata": {
            "needs_background": "light"
          }
        }
      ]
    },
    {
      "cell_type": "code",
      "source": [
        "from sklearn.metrics import accuracy_score\n",
        "y_pred = neuron.forward_pass(X_test.values)\n",
        "y_pred[y_pred < 0.5] = 0.0\n",
        "y_pred[y_pred >= 0.5] = 1.0\n",
        "print(\"Точность: \" + str(accuracy_score(y_pred, y_test) * 100))"
      ],
      "metadata": {
        "colab": {
          "base_uri": "https://localhost:8080/"
        },
        "id": "sl9hVUO_EGhN",
        "outputId": "379ee144-0987-415c-f1a5-3775eda5d139"
      },
      "execution_count": null,
      "outputs": [
        {
          "output_type": "stream",
          "name": "stdout",
          "text": [
            "Точность: 95.15151515151516\n"
          ]
        }
      ]
    },
    {
      "cell_type": "code",
      "source": [
        "data = pd.read_csv(\"/content/drive/MyDrive/Data/voice.csv\", sep = ',')\n",
        "data.sample(10)"
      ],
      "metadata": {
        "colab": {
          "base_uri": "https://localhost:8080/",
          "height": 379
        },
        "id": "h4gQ38h2GI82",
        "outputId": "c017c5da-b218-4136-869b-99f0ab4a60a1"
      },
      "execution_count": null,
      "outputs": [
        {
          "output_type": "execute_result",
          "data": {
            "text/html": [
              "<div>\n",
              "<style scoped>\n",
              "    .dataframe tbody tr th:only-of-type {\n",
              "        vertical-align: middle;\n",
              "    }\n",
              "\n",
              "    .dataframe tbody tr th {\n",
              "        vertical-align: top;\n",
              "    }\n",
              "\n",
              "    .dataframe thead th {\n",
              "        text-align: right;\n",
              "    }\n",
              "</style>\n",
              "<table border=\"1\" class=\"dataframe\">\n",
              "  <thead>\n",
              "    <tr style=\"text-align: right;\">\n",
              "      <th></th>\n",
              "      <th>meanfreq</th>\n",
              "      <th>sd</th>\n",
              "      <th>median</th>\n",
              "      <th>Q25</th>\n",
              "      <th>Q75</th>\n",
              "      <th>IQR</th>\n",
              "      <th>skew</th>\n",
              "      <th>kurt</th>\n",
              "      <th>sp.ent</th>\n",
              "      <th>sfm</th>\n",
              "      <th>mode</th>\n",
              "      <th>centroid</th>\n",
              "      <th>meanfun</th>\n",
              "      <th>minfun</th>\n",
              "      <th>maxfun</th>\n",
              "      <th>meandom</th>\n",
              "      <th>mindom</th>\n",
              "      <th>maxdom</th>\n",
              "      <th>dfrange</th>\n",
              "      <th>modindx</th>\n",
              "      <th>label</th>\n",
              "    </tr>\n",
              "  </thead>\n",
              "  <tbody>\n",
              "    <tr>\n",
              "      <th>2781</th>\n",
              "      <td>0.185827</td>\n",
              "      <td>0.035096</td>\n",
              "      <td>0.180990</td>\n",
              "      <td>0.165545</td>\n",
              "      <td>0.195644</td>\n",
              "      <td>0.030099</td>\n",
              "      <td>2.766888</td>\n",
              "      <td>10.464839</td>\n",
              "      <td>0.838638</td>\n",
              "      <td>0.217263</td>\n",
              "      <td>0.182178</td>\n",
              "      <td>0.185827</td>\n",
              "      <td>0.167370</td>\n",
              "      <td>0.047431</td>\n",
              "      <td>0.274286</td>\n",
              "      <td>0.574219</td>\n",
              "      <td>0.023438</td>\n",
              "      <td>3.773438</td>\n",
              "      <td>3.750000</td>\n",
              "      <td>0.075125</td>\n",
              "      <td>female</td>\n",
              "    </tr>\n",
              "    <tr>\n",
              "      <th>509</th>\n",
              "      <td>0.137655</td>\n",
              "      <td>0.084477</td>\n",
              "      <td>0.133981</td>\n",
              "      <td>0.072697</td>\n",
              "      <td>0.222624</td>\n",
              "      <td>0.149927</td>\n",
              "      <td>3.999052</td>\n",
              "      <td>42.125516</td>\n",
              "      <td>0.933738</td>\n",
              "      <td>0.575355</td>\n",
              "      <td>0.000000</td>\n",
              "      <td>0.137655</td>\n",
              "      <td>0.148467</td>\n",
              "      <td>0.039216</td>\n",
              "      <td>0.271186</td>\n",
              "      <td>0.280273</td>\n",
              "      <td>0.007812</td>\n",
              "      <td>4.453125</td>\n",
              "      <td>4.445312</td>\n",
              "      <td>0.107741</td>\n",
              "      <td>male</td>\n",
              "    </tr>\n",
              "    <tr>\n",
              "      <th>760</th>\n",
              "      <td>0.171959</td>\n",
              "      <td>0.058045</td>\n",
              "      <td>0.179305</td>\n",
              "      <td>0.116043</td>\n",
              "      <td>0.217861</td>\n",
              "      <td>0.101818</td>\n",
              "      <td>2.074882</td>\n",
              "      <td>9.855413</td>\n",
              "      <td>0.930059</td>\n",
              "      <td>0.477426</td>\n",
              "      <td>0.213369</td>\n",
              "      <td>0.171959</td>\n",
              "      <td>0.095896</td>\n",
              "      <td>0.035874</td>\n",
              "      <td>0.225352</td>\n",
              "      <td>0.689844</td>\n",
              "      <td>0.101562</td>\n",
              "      <td>3.671875</td>\n",
              "      <td>3.570312</td>\n",
              "      <td>0.174249</td>\n",
              "      <td>male</td>\n",
              "    </tr>\n",
              "    <tr>\n",
              "      <th>2849</th>\n",
              "      <td>0.239182</td>\n",
              "      <td>0.031725</td>\n",
              "      <td>0.243035</td>\n",
              "      <td>0.227314</td>\n",
              "      <td>0.258756</td>\n",
              "      <td>0.031442</td>\n",
              "      <td>1.962068</td>\n",
              "      <td>5.930572</td>\n",
              "      <td>0.811535</td>\n",
              "      <td>0.145053</td>\n",
              "      <td>0.231988</td>\n",
              "      <td>0.239182</td>\n",
              "      <td>0.202356</td>\n",
              "      <td>0.053571</td>\n",
              "      <td>0.277457</td>\n",
              "      <td>1.089558</td>\n",
              "      <td>0.046875</td>\n",
              "      <td>9.281250</td>\n",
              "      <td>9.234375</td>\n",
              "      <td>0.088127</td>\n",
              "      <td>female</td>\n",
              "    </tr>\n",
              "    <tr>\n",
              "      <th>1490</th>\n",
              "      <td>0.144257</td>\n",
              "      <td>0.077591</td>\n",
              "      <td>0.133869</td>\n",
              "      <td>0.091800</td>\n",
              "      <td>0.212384</td>\n",
              "      <td>0.120584</td>\n",
              "      <td>1.818314</td>\n",
              "      <td>6.202949</td>\n",
              "      <td>0.951253</td>\n",
              "      <td>0.677043</td>\n",
              "      <td>0.094696</td>\n",
              "      <td>0.144257</td>\n",
              "      <td>0.118050</td>\n",
              "      <td>0.022191</td>\n",
              "      <td>0.271186</td>\n",
              "      <td>0.416835</td>\n",
              "      <td>0.007812</td>\n",
              "      <td>1.742188</td>\n",
              "      <td>1.734375</td>\n",
              "      <td>0.150901</td>\n",
              "      <td>male</td>\n",
              "    </tr>\n",
              "    <tr>\n",
              "      <th>380</th>\n",
              "      <td>0.191695</td>\n",
              "      <td>0.058998</td>\n",
              "      <td>0.207516</td>\n",
              "      <td>0.140292</td>\n",
              "      <td>0.240835</td>\n",
              "      <td>0.100543</td>\n",
              "      <td>1.217151</td>\n",
              "      <td>4.136626</td>\n",
              "      <td>0.911917</td>\n",
              "      <td>0.394777</td>\n",
              "      <td>0.211023</td>\n",
              "      <td>0.191695</td>\n",
              "      <td>0.112744</td>\n",
              "      <td>0.060606</td>\n",
              "      <td>0.146789</td>\n",
              "      <td>1.315505</td>\n",
              "      <td>0.218750</td>\n",
              "      <td>4.593750</td>\n",
              "      <td>4.375000</td>\n",
              "      <td>0.346131</td>\n",
              "      <td>male</td>\n",
              "    </tr>\n",
              "    <tr>\n",
              "      <th>2274</th>\n",
              "      <td>0.218478</td>\n",
              "      <td>0.042913</td>\n",
              "      <td>0.215842</td>\n",
              "      <td>0.204795</td>\n",
              "      <td>0.248134</td>\n",
              "      <td>0.043338</td>\n",
              "      <td>3.105067</td>\n",
              "      <td>16.062514</td>\n",
              "      <td>0.849660</td>\n",
              "      <td>0.251582</td>\n",
              "      <td>0.209044</td>\n",
              "      <td>0.218478</td>\n",
              "      <td>0.187587</td>\n",
              "      <td>0.048096</td>\n",
              "      <td>0.275862</td>\n",
              "      <td>1.049202</td>\n",
              "      <td>0.023438</td>\n",
              "      <td>7.546875</td>\n",
              "      <td>7.523438</td>\n",
              "      <td>0.116207</td>\n",
              "      <td>female</td>\n",
              "    </tr>\n",
              "    <tr>\n",
              "      <th>2077</th>\n",
              "      <td>0.152846</td>\n",
              "      <td>0.086618</td>\n",
              "      <td>0.140770</td>\n",
              "      <td>0.089741</td>\n",
              "      <td>0.246787</td>\n",
              "      <td>0.157046</td>\n",
              "      <td>2.703586</td>\n",
              "      <td>18.035469</td>\n",
              "      <td>0.961420</td>\n",
              "      <td>0.740639</td>\n",
              "      <td>0.120534</td>\n",
              "      <td>0.152846</td>\n",
              "      <td>0.164298</td>\n",
              "      <td>0.022567</td>\n",
              "      <td>0.275862</td>\n",
              "      <td>0.541562</td>\n",
              "      <td>0.007812</td>\n",
              "      <td>3.671875</td>\n",
              "      <td>3.664062</td>\n",
              "      <td>0.138806</td>\n",
              "      <td>female</td>\n",
              "    </tr>\n",
              "    <tr>\n",
              "      <th>1380</th>\n",
              "      <td>0.199104</td>\n",
              "      <td>0.055971</td>\n",
              "      <td>0.223582</td>\n",
              "      <td>0.148881</td>\n",
              "      <td>0.245000</td>\n",
              "      <td>0.096119</td>\n",
              "      <td>1.665795</td>\n",
              "      <td>6.589919</td>\n",
              "      <td>0.894650</td>\n",
              "      <td>0.308211</td>\n",
              "      <td>0.230896</td>\n",
              "      <td>0.199104</td>\n",
              "      <td>0.130840</td>\n",
              "      <td>0.046967</td>\n",
              "      <td>0.279070</td>\n",
              "      <td>0.732730</td>\n",
              "      <td>0.023438</td>\n",
              "      <td>3.656250</td>\n",
              "      <td>3.632812</td>\n",
              "      <td>0.110459</td>\n",
              "      <td>male</td>\n",
              "    </tr>\n",
              "    <tr>\n",
              "      <th>2257</th>\n",
              "      <td>0.118339</td>\n",
              "      <td>0.087454</td>\n",
              "      <td>0.153019</td>\n",
              "      <td>0.022833</td>\n",
              "      <td>0.187468</td>\n",
              "      <td>0.164635</td>\n",
              "      <td>2.145869</td>\n",
              "      <td>7.826696</td>\n",
              "      <td>0.937856</td>\n",
              "      <td>0.652659</td>\n",
              "      <td>0.010815</td>\n",
              "      <td>0.118339</td>\n",
              "      <td>0.174555</td>\n",
              "      <td>0.031008</td>\n",
              "      <td>0.275862</td>\n",
              "      <td>1.204427</td>\n",
              "      <td>0.015625</td>\n",
              "      <td>3.578125</td>\n",
              "      <td>3.562500</td>\n",
              "      <td>0.334729</td>\n",
              "      <td>female</td>\n",
              "    </tr>\n",
              "  </tbody>\n",
              "</table>\n",
              "</div>"
            ],
            "text/plain": [
              "      meanfreq        sd    median  ...   dfrange   modindx   label\n",
              "2781  0.185827  0.035096  0.180990  ...  3.750000  0.075125  female\n",
              "509   0.137655  0.084477  0.133981  ...  4.445312  0.107741    male\n",
              "760   0.171959  0.058045  0.179305  ...  3.570312  0.174249    male\n",
              "2849  0.239182  0.031725  0.243035  ...  9.234375  0.088127  female\n",
              "1490  0.144257  0.077591  0.133869  ...  1.734375  0.150901    male\n",
              "380   0.191695  0.058998  0.207516  ...  4.375000  0.346131    male\n",
              "2274  0.218478  0.042913  0.215842  ...  7.523438  0.116207  female\n",
              "2077  0.152846  0.086618  0.140770  ...  3.664062  0.138806  female\n",
              "1380  0.199104  0.055971  0.223582  ...  3.632812  0.110459    male\n",
              "2257  0.118339  0.087454  0.153019  ...  3.562500  0.334729  female\n",
              "\n",
              "[10 rows x 21 columns]"
            ]
          },
          "metadata": {},
          "execution_count": 52
        }
      ]
    },
    {
      "cell_type": "code",
      "source": [
        "from sklearn.preprocessing import LabelEncoder\n",
        "encoder = LabelEncoder()\n",
        "data['label'] = encoder.fit_transform(data['label'])\n",
        "data.sample(10)"
      ],
      "metadata": {
        "colab": {
          "base_uri": "https://localhost:8080/",
          "height": 379
        },
        "id": "GP4MA2Rct605",
        "outputId": "81968237-b8ff-4afa-b9ec-a4d8e99017f4"
      },
      "execution_count": null,
      "outputs": [
        {
          "output_type": "execute_result",
          "data": {
            "text/html": [
              "<div>\n",
              "<style scoped>\n",
              "    .dataframe tbody tr th:only-of-type {\n",
              "        vertical-align: middle;\n",
              "    }\n",
              "\n",
              "    .dataframe tbody tr th {\n",
              "        vertical-align: top;\n",
              "    }\n",
              "\n",
              "    .dataframe thead th {\n",
              "        text-align: right;\n",
              "    }\n",
              "</style>\n",
              "<table border=\"1\" class=\"dataframe\">\n",
              "  <thead>\n",
              "    <tr style=\"text-align: right;\">\n",
              "      <th></th>\n",
              "      <th>meanfreq</th>\n",
              "      <th>sd</th>\n",
              "      <th>median</th>\n",
              "      <th>Q25</th>\n",
              "      <th>Q75</th>\n",
              "      <th>IQR</th>\n",
              "      <th>skew</th>\n",
              "      <th>kurt</th>\n",
              "      <th>sp.ent</th>\n",
              "      <th>sfm</th>\n",
              "      <th>mode</th>\n",
              "      <th>centroid</th>\n",
              "      <th>meanfun</th>\n",
              "      <th>minfun</th>\n",
              "      <th>maxfun</th>\n",
              "      <th>meandom</th>\n",
              "      <th>mindom</th>\n",
              "      <th>maxdom</th>\n",
              "      <th>dfrange</th>\n",
              "      <th>modindx</th>\n",
              "      <th>label</th>\n",
              "    </tr>\n",
              "  </thead>\n",
              "  <tbody>\n",
              "    <tr>\n",
              "      <th>2608</th>\n",
              "      <td>0.231283</td>\n",
              "      <td>0.027903</td>\n",
              "      <td>0.235789</td>\n",
              "      <td>0.218695</td>\n",
              "      <td>0.246989</td>\n",
              "      <td>0.028295</td>\n",
              "      <td>2.164549</td>\n",
              "      <td>7.564842</td>\n",
              "      <td>0.812226</td>\n",
              "      <td>0.120789</td>\n",
              "      <td>0.245221</td>\n",
              "      <td>0.231283</td>\n",
              "      <td>0.188998</td>\n",
              "      <td>0.046921</td>\n",
              "      <td>0.277457</td>\n",
              "      <td>0.900965</td>\n",
              "      <td>0.023438</td>\n",
              "      <td>3.820312</td>\n",
              "      <td>3.796875</td>\n",
              "      <td>0.098380</td>\n",
              "      <td>0</td>\n",
              "    </tr>\n",
              "    <tr>\n",
              "      <th>1875</th>\n",
              "      <td>0.189154</td>\n",
              "      <td>0.049763</td>\n",
              "      <td>0.192406</td>\n",
              "      <td>0.154951</td>\n",
              "      <td>0.223668</td>\n",
              "      <td>0.068716</td>\n",
              "      <td>1.188838</td>\n",
              "      <td>3.912539</td>\n",
              "      <td>0.926781</td>\n",
              "      <td>0.399390</td>\n",
              "      <td>0.199504</td>\n",
              "      <td>0.189154</td>\n",
              "      <td>0.139330</td>\n",
              "      <td>0.032787</td>\n",
              "      <td>0.242424</td>\n",
              "      <td>0.548438</td>\n",
              "      <td>0.164062</td>\n",
              "      <td>2.601562</td>\n",
              "      <td>2.437500</td>\n",
              "      <td>0.168175</td>\n",
              "      <td>0</td>\n",
              "    </tr>\n",
              "    <tr>\n",
              "      <th>2941</th>\n",
              "      <td>0.205945</td>\n",
              "      <td>0.036712</td>\n",
              "      <td>0.204133</td>\n",
              "      <td>0.181391</td>\n",
              "      <td>0.235062</td>\n",
              "      <td>0.053671</td>\n",
              "      <td>1.492789</td>\n",
              "      <td>4.796759</td>\n",
              "      <td>0.888007</td>\n",
              "      <td>0.208745</td>\n",
              "      <td>0.195218</td>\n",
              "      <td>0.205945</td>\n",
              "      <td>0.168331</td>\n",
              "      <td>0.018957</td>\n",
              "      <td>0.258065</td>\n",
              "      <td>0.855208</td>\n",
              "      <td>0.007812</td>\n",
              "      <td>5.023438</td>\n",
              "      <td>5.015625</td>\n",
              "      <td>0.181854</td>\n",
              "      <td>0</td>\n",
              "    </tr>\n",
              "    <tr>\n",
              "      <th>1587</th>\n",
              "      <td>0.195280</td>\n",
              "      <td>0.072087</td>\n",
              "      <td>0.204656</td>\n",
              "      <td>0.180611</td>\n",
              "      <td>0.255954</td>\n",
              "      <td>0.075344</td>\n",
              "      <td>2.392326</td>\n",
              "      <td>10.061489</td>\n",
              "      <td>0.907115</td>\n",
              "      <td>0.524209</td>\n",
              "      <td>0.193435</td>\n",
              "      <td>0.195280</td>\n",
              "      <td>0.182629</td>\n",
              "      <td>0.024922</td>\n",
              "      <td>0.275862</td>\n",
              "      <td>0.269531</td>\n",
              "      <td>0.054688</td>\n",
              "      <td>0.703125</td>\n",
              "      <td>0.648438</td>\n",
              "      <td>0.294717</td>\n",
              "      <td>0</td>\n",
              "    </tr>\n",
              "    <tr>\n",
              "      <th>1752</th>\n",
              "      <td>0.183358</td>\n",
              "      <td>0.034865</td>\n",
              "      <td>0.181053</td>\n",
              "      <td>0.172105</td>\n",
              "      <td>0.195789</td>\n",
              "      <td>0.023684</td>\n",
              "      <td>3.350340</td>\n",
              "      <td>15.917992</td>\n",
              "      <td>0.817365</td>\n",
              "      <td>0.233875</td>\n",
              "      <td>0.175789</td>\n",
              "      <td>0.183358</td>\n",
              "      <td>0.172607</td>\n",
              "      <td>0.084656</td>\n",
              "      <td>0.246154</td>\n",
              "      <td>0.859375</td>\n",
              "      <td>0.171875</td>\n",
              "      <td>6.062500</td>\n",
              "      <td>5.890625</td>\n",
              "      <td>0.221003</td>\n",
              "      <td>0</td>\n",
              "    </tr>\n",
              "    <tr>\n",
              "      <th>2004</th>\n",
              "      <td>0.185417</td>\n",
              "      <td>0.081042</td>\n",
              "      <td>0.208392</td>\n",
              "      <td>0.180949</td>\n",
              "      <td>0.240551</td>\n",
              "      <td>0.059602</td>\n",
              "      <td>3.272257</td>\n",
              "      <td>32.106008</td>\n",
              "      <td>0.921850</td>\n",
              "      <td>0.470285</td>\n",
              "      <td>0.000000</td>\n",
              "      <td>0.185417</td>\n",
              "      <td>0.196081</td>\n",
              "      <td>0.025600</td>\n",
              "      <td>0.266667</td>\n",
              "      <td>0.283100</td>\n",
              "      <td>0.007812</td>\n",
              "      <td>0.789062</td>\n",
              "      <td>0.781250</td>\n",
              "      <td>0.289189</td>\n",
              "      <td>0</td>\n",
              "    </tr>\n",
              "    <tr>\n",
              "      <th>2536</th>\n",
              "      <td>0.214978</td>\n",
              "      <td>0.035322</td>\n",
              "      <td>0.218936</td>\n",
              "      <td>0.187660</td>\n",
              "      <td>0.242021</td>\n",
              "      <td>0.054362</td>\n",
              "      <td>2.121669</td>\n",
              "      <td>8.614262</td>\n",
              "      <td>0.856401</td>\n",
              "      <td>0.182983</td>\n",
              "      <td>0.186170</td>\n",
              "      <td>0.214978</td>\n",
              "      <td>0.164939</td>\n",
              "      <td>0.047244</td>\n",
              "      <td>0.279070</td>\n",
              "      <td>1.803786</td>\n",
              "      <td>0.187500</td>\n",
              "      <td>6.750000</td>\n",
              "      <td>6.562500</td>\n",
              "      <td>0.189907</td>\n",
              "      <td>0</td>\n",
              "    </tr>\n",
              "    <tr>\n",
              "      <th>2553</th>\n",
              "      <td>0.223074</td>\n",
              "      <td>0.038891</td>\n",
              "      <td>0.227258</td>\n",
              "      <td>0.203601</td>\n",
              "      <td>0.247812</td>\n",
              "      <td>0.044211</td>\n",
              "      <td>1.710735</td>\n",
              "      <td>5.115416</td>\n",
              "      <td>0.856251</td>\n",
              "      <td>0.221538</td>\n",
              "      <td>0.240443</td>\n",
              "      <td>0.223074</td>\n",
              "      <td>0.164597</td>\n",
              "      <td>0.047478</td>\n",
              "      <td>0.279070</td>\n",
              "      <td>1.191256</td>\n",
              "      <td>0.023438</td>\n",
              "      <td>6.773438</td>\n",
              "      <td>6.750000</td>\n",
              "      <td>0.165534</td>\n",
              "      <td>0</td>\n",
              "    </tr>\n",
              "    <tr>\n",
              "      <th>2852</th>\n",
              "      <td>0.233744</td>\n",
              "      <td>0.029424</td>\n",
              "      <td>0.237921</td>\n",
              "      <td>0.223764</td>\n",
              "      <td>0.247360</td>\n",
              "      <td>0.023596</td>\n",
              "      <td>2.893058</td>\n",
              "      <td>11.452071</td>\n",
              "      <td>0.796059</td>\n",
              "      <td>0.141941</td>\n",
              "      <td>0.245787</td>\n",
              "      <td>0.233744</td>\n",
              "      <td>0.202037</td>\n",
              "      <td>0.053452</td>\n",
              "      <td>0.277457</td>\n",
              "      <td>1.815104</td>\n",
              "      <td>0.023438</td>\n",
              "      <td>11.250000</td>\n",
              "      <td>11.226562</td>\n",
              "      <td>0.141810</td>\n",
              "      <td>0</td>\n",
              "    </tr>\n",
              "    <tr>\n",
              "      <th>1273</th>\n",
              "      <td>0.144904</td>\n",
              "      <td>0.082745</td>\n",
              "      <td>0.129262</td>\n",
              "      <td>0.073343</td>\n",
              "      <td>0.241910</td>\n",
              "      <td>0.168567</td>\n",
              "      <td>1.436073</td>\n",
              "      <td>5.095229</td>\n",
              "      <td>0.945096</td>\n",
              "      <td>0.586565</td>\n",
              "      <td>0.268654</td>\n",
              "      <td>0.144904</td>\n",
              "      <td>0.145540</td>\n",
              "      <td>0.048290</td>\n",
              "      <td>0.279070</td>\n",
              "      <td>0.756696</td>\n",
              "      <td>0.023438</td>\n",
              "      <td>4.125000</td>\n",
              "      <td>4.101562</td>\n",
              "      <td>0.106494</td>\n",
              "      <td>1</td>\n",
              "    </tr>\n",
              "  </tbody>\n",
              "</table>\n",
              "</div>"
            ],
            "text/plain": [
              "      meanfreq        sd    median  ...    dfrange   modindx  label\n",
              "2608  0.231283  0.027903  0.235789  ...   3.796875  0.098380      0\n",
              "1875  0.189154  0.049763  0.192406  ...   2.437500  0.168175      0\n",
              "2941  0.205945  0.036712  0.204133  ...   5.015625  0.181854      0\n",
              "1587  0.195280  0.072087  0.204656  ...   0.648438  0.294717      0\n",
              "1752  0.183358  0.034865  0.181053  ...   5.890625  0.221003      0\n",
              "2004  0.185417  0.081042  0.208392  ...   0.781250  0.289189      0\n",
              "2536  0.214978  0.035322  0.218936  ...   6.562500  0.189907      0\n",
              "2553  0.223074  0.038891  0.227258  ...   6.750000  0.165534      0\n",
              "2852  0.233744  0.029424  0.237921  ...  11.226562  0.141810      0\n",
              "1273  0.144904  0.082745  0.129262  ...   4.101562  0.106494      1\n",
              "\n",
              "[10 rows x 21 columns]"
            ]
          },
          "metadata": {},
          "execution_count": 53
        }
      ]
    },
    {
      "cell_type": "code",
      "source": [
        "training_points = data.drop([\"label\"], axis=1)\n",
        "training_values = data.label\n",
        "X_train, X_test, y_train, y_test = train_test_split(training_points, training_values, test_size=0.33, random_state=103)"
      ],
      "metadata": {
        "id": "BcIe4bbjvpCY"
      },
      "execution_count": null,
      "outputs": []
    },
    {
      "cell_type": "code",
      "source": [
        "X = data.iloc[:,:2].values\n",
        "y = data['label'].values.reshape((-1, 1))\n",
        "neuron = Neuron()\n",
        "Loss_values = neuron.fit(X, y, num_epochs=100000)"
      ],
      "metadata": {
        "id": "gKu7g-1cwOwQ"
      },
      "execution_count": null,
      "outputs": []
    },
    {
      "cell_type": "code",
      "source": [
        "from sklearn.metrics import accuracy_score\n",
        "y_pred = neuron.forward_pass(X_test.iloc[:,:2].values)\n",
        "y_pred[y_pred < 0.5] = 0.0\n",
        "y_pred[y_pred >= 0.5] = 1.0\n",
        "print(\"Точность: \" + str(accuracy_score(y_pred, y_test) * 100))"
      ],
      "metadata": {
        "colab": {
          "base_uri": "https://localhost:8080/"
        },
        "id": "vw85kcUFOklr",
        "outputId": "114d4185-2e87-4c23-da52-ff27fe2f7ca3"
      },
      "execution_count": null,
      "outputs": [
        {
          "output_type": "stream",
          "name": "stdout",
          "text": [
            "Точность: 68.73804971319312\n"
          ]
        }
      ]
    },
    {
      "cell_type": "code",
      "source": [
        "plt.figure(figsize=(5, 4))\n",
        "plt.plot(Loss_values)\n",
        "plt.title('Функция потерь', fontsize=15)\n",
        "plt.xlabel('итерация', fontsize=15)\n",
        "plt.ylabel('$Loss(\\hat{y}, y)$', fontsize=15)\n",
        "plt.show()"
      ],
      "metadata": {
        "colab": {
          "base_uri": "https://localhost:8080/",
          "height": 302
        },
        "id": "3tYFV6PG1ur0",
        "outputId": "afd24f63-4e72-490e-88ee-8c2ab40d6e0a"
      },
      "execution_count": null,
      "outputs": [
        {
          "output_type": "display_data",
          "data": {
            "image/png": "[encoded data removed]",
            "text/plain": [
              "<Figure size 360x288 with 1 Axes>"
            ]
          },
          "metadata": {
            "needs_background": "light"
          }
        }
      ]
    }
  ]
}